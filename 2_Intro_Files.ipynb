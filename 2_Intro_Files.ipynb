{
 "cells": [
  {
   "cell_type": "markdown",
   "metadata": {},
   "source": [
    "# Demo Notebook - Text Data Manipulation\n",
    "\n",
    "### Description\n",
    "The purpose of this notebook is to provide examples of common text data manipulations that can be used in Python to automate data processing tasks. The notebook will focus on the two most common types of text data: excel and csv. The following topics will be covered:\n",
    "\n",
    "1. Reading multiple excel files from the same directory\n",
    "2. Removing an excel header\n",
    "3. Combining multiple excel sheets vertically (concatenate)\n",
    "4. Removing duplicates\n",
    "5. Removing missing values\n",
    "6. Expanding 1 row with combined field into multiple rows\n",
    "7. Reading a csv file\n",
    "8. Merging excel data and csv data horizontally (join)\n",
    "9. Group by Date and count the number of unique PR's of each type\n",
    "10. Outputting to new excel or csv file\n"
   ]
  },
  {
   "cell_type": "code",
   "execution_count": 1,
   "metadata": {},
   "outputs": [],
   "source": [
    "# First we must import the pandas package that we will use to read our files\n",
    "import pandas as pd"
   ]
  },
  {
   "cell_type": "markdown",
   "metadata": {},
   "source": [
    "## 1. Reading multiple excel files from the same directory"
   ]
  },
  {
   "cell_type": "code",
   "execution_count": 2,
   "metadata": {},
   "outputs": [],
   "source": [
    "# Create list of excel filenames\n",
    "excel_filenames = [\"https://raw.githubusercontent.com/jzhangab/DS101/master/1_Data/Excel_demo/excel_demo_1.xlsx\",\n",
    "                   \"https://raw.githubusercontent.com/jzhangab/DS101/master/1_Data/Excel_demo/excel_demo_2.xlsx\",\n",
    "                   \"https://raw.githubusercontent.com/jzhangab/DS101/master/1_Data/Excel_demo/excel_demo_3.xlsx\"]"
   ]
  },
  {
   "cell_type": "markdown",
   "metadata": {},
   "source": [
    "## 2 + 3. Removing an excel header and combining multiple excel sheets vertically\n",
    "\n",
    "First let's read one of the files, try reading it with and without skipping the first 5 rows using the skiprows command"
   ]
  },
  {
   "cell_type": "code",
   "execution_count": 5,
   "metadata": {},
   "outputs": [],
   "source": [
    "df_1_excel = pd.read_excel(\"https://raw.githubusercontent.com/jzhangab/DS101/master/1_Data/Excel_demo/excel_demo_1.xlsx\",\n",
    "                           sheet_name = \"export_query_results\",\n",
    "                           skiprows = 0) #Try setting skiprows to 0 or 1 and see what the df_1_excel looks like"
   ]
  },
  {
   "cell_type": "code",
   "execution_count": 6,
   "metadata": {},
   "outputs": [
    {
     "data": {
      "text/html": [
       "<div>\n",
       "<style scoped>\n",
       "    .dataframe tbody tr th:only-of-type {\n",
       "        vertical-align: middle;\n",
       "    }\n",
       "\n",
       "    .dataframe tbody tr th {\n",
       "        vertical-align: top;\n",
       "    }\n",
       "\n",
       "    .dataframe thead th {\n",
       "        text-align: right;\n",
       "    }\n",
       "</style>\n",
       "<table border=\"1\" class=\"dataframe\">\n",
       "  <thead>\n",
       "    <tr style=\"text-align: right;\">\n",
       "      <th></th>\n",
       "      <th>Data exported from Oracle Database</th>\n",
       "      <th>Unnamed: 1</th>\n",
       "      <th>Unnamed: 2</th>\n",
       "      <th>Unnamed: 3</th>\n",
       "      <th>Unnamed: 4</th>\n",
       "    </tr>\n",
       "  </thead>\n",
       "  <tbody>\n",
       "    <tr>\n",
       "      <td>0</td>\n",
       "      <td>Export date: 12/21/2019</td>\n",
       "      <td>NaN</td>\n",
       "      <td>NaN</td>\n",
       "      <td>NaN</td>\n",
       "      <td>NaN</td>\n",
       "    </tr>\n",
       "    <tr>\n",
       "      <td>1</td>\n",
       "      <td>NaN</td>\n",
       "      <td>NaN</td>\n",
       "      <td>NaN</td>\n",
       "      <td>NaN</td>\n",
       "      <td>NaN</td>\n",
       "    </tr>\n",
       "    <tr>\n",
       "      <td>2</td>\n",
       "      <td>Export by:</td>\n",
       "      <td>User x</td>\n",
       "      <td>NaN</td>\n",
       "      <td>NaN</td>\n",
       "      <td>NaN</td>\n",
       "    </tr>\n",
       "    <tr>\n",
       "      <td>3</td>\n",
       "      <td>NaN</td>\n",
       "      <td>NaN</td>\n",
       "      <td>NaN</td>\n",
       "      <td>NaN</td>\n",
       "      <td>NaN</td>\n",
       "    </tr>\n",
       "    <tr>\n",
       "      <td>4</td>\n",
       "      <td>PR ID</td>\n",
       "      <td>Date</td>\n",
       "      <td>Type</td>\n",
       "      <td>Country</td>\n",
       "      <td>Description</td>\n",
       "    </tr>\n",
       "    <tr>\n",
       "      <td>5</td>\n",
       "      <td>1234</td>\n",
       "      <td>2019-01-01 00:00:00</td>\n",
       "      <td>Deviation</td>\n",
       "      <td>Japan;United States</td>\n",
       "      <td>Lorem Ipsum is simply dummy text of the printi...</td>\n",
       "    </tr>\n",
       "    <tr>\n",
       "      <td>6</td>\n",
       "      <td>1234</td>\n",
       "      <td>2019-01-01 00:00:00</td>\n",
       "      <td>Complaint</td>\n",
       "      <td>Japan;United States</td>\n",
       "      <td>Lorem Ipsum is simply dummy text of the printi...</td>\n",
       "    </tr>\n",
       "    <tr>\n",
       "      <td>7</td>\n",
       "      <td>1235</td>\n",
       "      <td>2019-01-02 00:00:00</td>\n",
       "      <td>Deviation</td>\n",
       "      <td>United States</td>\n",
       "      <td>Lorem Ipsum is simply dummy text of the printi...</td>\n",
       "    </tr>\n",
       "    <tr>\n",
       "      <td>8</td>\n",
       "      <td>1236</td>\n",
       "      <td>2019-01-02 00:00:00</td>\n",
       "      <td>Deviation</td>\n",
       "      <td>United States</td>\n",
       "      <td>Lorem Ipsum is simply dummy text of the printi...</td>\n",
       "    </tr>\n",
       "    <tr>\n",
       "      <td>9</td>\n",
       "      <td>1237</td>\n",
       "      <td>2019-01-02 00:00:00</td>\n",
       "      <td>Deviation;CAPA</td>\n",
       "      <td>Mexico</td>\n",
       "      <td>Lorem Ipsum is simply dummy text of the printi...</td>\n",
       "    </tr>\n",
       "  </tbody>\n",
       "</table>\n",
       "</div>"
      ],
      "text/plain": [
       "  Data exported from Oracle Database           Unnamed: 1      Unnamed: 2  \\\n",
       "0            Export date: 12/21/2019                  NaN             NaN   \n",
       "1                                NaN                  NaN             NaN   \n",
       "2                         Export by:               User x             NaN   \n",
       "3                                NaN                  NaN             NaN   \n",
       "4                              PR ID                 Date            Type   \n",
       "5                               1234  2019-01-01 00:00:00       Deviation   \n",
       "6                               1234  2019-01-01 00:00:00       Complaint   \n",
       "7                               1235  2019-01-02 00:00:00       Deviation   \n",
       "8                               1236  2019-01-02 00:00:00       Deviation   \n",
       "9                               1237  2019-01-02 00:00:00  Deviation;CAPA   \n",
       "\n",
       "            Unnamed: 3                                         Unnamed: 4  \n",
       "0                  NaN                                                NaN  \n",
       "1                  NaN                                                NaN  \n",
       "2                  NaN                                                NaN  \n",
       "3                  NaN                                                NaN  \n",
       "4              Country                                        Description  \n",
       "5  Japan;United States  Lorem Ipsum is simply dummy text of the printi...  \n",
       "6  Japan;United States  Lorem Ipsum is simply dummy text of the printi...  \n",
       "7        United States  Lorem Ipsum is simply dummy text of the printi...  \n",
       "8        United States  Lorem Ipsum is simply dummy text of the printi...  \n",
       "9               Mexico  Lorem Ipsum is simply dummy text of the printi...  "
      ]
     },
     "execution_count": 6,
     "metadata": {},
     "output_type": "execute_result"
    }
   ],
   "source": [
    "# This command previews the start of the dataframe\n",
    "df_1_excel.head(10)"
   ]
  },
  {
   "cell_type": "code",
   "execution_count": null,
   "metadata": {},
   "outputs": [],
   "source": [
    "# pd.concat is used to concatenate multiple dataframes\n",
    "df_excel = pd.concat((pd.read_excel(f,\n",
    "                                    sheet_name = \"export_query_results\",\n",
    "                                    skiprows = 5) for f in excel_filenames))"
   ]
  },
  {
   "cell_type": "code",
   "execution_count": null,
   "metadata": {},
   "outputs": [],
   "source": [
    "# Preview the resulting combined dataframe\n",
    "df_excel.head(5)"
   ]
  },
  {
   "cell_type": "markdown",
   "metadata": {},
   "source": [
    "## 4. Remove duplicate rows"
   ]
  },
  {
   "cell_type": "code",
   "execution_count": null,
   "metadata": {},
   "outputs": [],
   "source": [
    "df_excel = df_excel.drop_duplicates(keep = \"first\")"
   ]
  },
  {
   "cell_type": "markdown",
   "metadata": {},
   "source": [
    "## 5. Remove missing values"
   ]
  },
  {
   "cell_type": "code",
   "execution_count": null,
   "metadata": {},
   "outputs": [],
   "source": [
    "df_excel = df_excel.dropna()"
   ]
  },
  {
   "cell_type": "markdown",
   "metadata": {},
   "source": [
    "## 6. Expand a row into multiple rows based on delimited column\n",
    "We will expand the \";\" delimited column [Type] into multiple rows"
   ]
  },
  {
   "cell_type": "code",
   "execution_count": null,
   "metadata": {},
   "outputs": [],
   "source": [
    "# First convert [Type] into list form\n",
    "df_excel['Type'] = df_excel['Type'].str.split(';')"
   ]
  },
  {
   "cell_type": "code",
   "execution_count": null,
   "metadata": {},
   "outputs": [],
   "source": [
    "# Then explode the column\n",
    "df_excel = df_excel.explode('Type')"
   ]
  },
  {
   "cell_type": "code",
   "execution_count": null,
   "metadata": {},
   "outputs": [],
   "source": [
    "# Check the dataframe\n",
    "df_excel.head()"
   ]
  },
  {
   "cell_type": "markdown",
   "metadata": {},
   "source": [
    "## 7. Read a single CSV file"
   ]
  },
  {
   "cell_type": "code",
   "execution_count": null,
   "metadata": {},
   "outputs": [],
   "source": [
    "df_csv = pd.read_csv(\"https://raw.githubusercontent.com/jzhangab/DS101/master/1_Data/Excel_demo/map.csv\")"
   ]
  },
  {
   "cell_type": "code",
   "execution_count": null,
   "metadata": {},
   "outputs": [],
   "source": [
    "df_csv.head()"
   ]
  },
  {
   "cell_type": "markdown",
   "metadata": {},
   "source": [
    "## 8. Merging excel data and csv data horizontally (join)"
   ]
  },
  {
   "cell_type": "code",
   "execution_count": null,
   "metadata": {},
   "outputs": [],
   "source": [
    "# This is a left join\n",
    "df_merge = pd.merge(df_excel,\n",
    "                    df_csv,\n",
    "                    left_on = 'PR ID',\n",
    "                    right_on = 'PR',\n",
    "                    how = 'left')"
   ]
  },
  {
   "cell_type": "code",
   "execution_count": null,
   "metadata": {},
   "outputs": [],
   "source": [
    "df_merge.head()"
   ]
  },
  {
   "cell_type": "markdown",
   "metadata": {},
   "source": [
    "## 9. Group by Date and count the number of unique PR's of each type"
   ]
  },
  {
   "cell_type": "code",
   "execution_count": null,
   "metadata": {},
   "outputs": [],
   "source": [
    "df_group = df_merge.groupby(['Date', 'Type']).count()\n",
    "df_group = df_group[['PR ID']]"
   ]
  },
  {
   "cell_type": "code",
   "execution_count": null,
   "metadata": {},
   "outputs": [],
   "source": [
    "df_group.head()"
   ]
  },
  {
   "cell_type": "markdown",
   "metadata": {},
   "source": [
    "# 10. Output to excel or csv"
   ]
  },
  {
   "cell_type": "code",
   "execution_count": null,
   "metadata": {},
   "outputs": [],
   "source": [
    "# Local file Download\n",
    "df_group.to_csv('thisisacsvfile.csv')\n",
    "\n",
    "# Cloud file Download\n",
    "from google.colab import files\n",
    "files.download('thisisacsvfile.csv')\n"
   ]
  },
  {
   "cell_type": "code",
   "execution_count": null,
   "metadata": {},
   "outputs": [],
   "source": [
    "# And if you want to read the file you just output\n",
    "pd.read_csv('thisisacsvfile.csv')"
   ]
  }
 ],
 "metadata": {
  "file_extension": ".py",
  "kernelspec": {
   "display_name": "Python 3",
   "language": "python",
   "name": "python3"
  },
  "language_info": {
   "codemirror_mode": {
    "name": "ipython",
    "version": 3
   },
   "file_extension": ".py",
   "mimetype": "text/x-python",
   "name": "python",
   "nbconvert_exporter": "python",
   "pygments_lexer": "ipython3",
   "version": "3.7.4"
  },
  "mimetype": "text/x-python",
  "name": "python",
  "npconvert_exporter": "python",
  "pygments_lexer": "ipython3",
  "version": 3
 },
 "nbformat": 4,
 "nbformat_minor": 2
}
