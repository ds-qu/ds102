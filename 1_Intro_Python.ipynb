{
 "cells": [
  {
   "cell_type": "markdown",
   "metadata": {},
   "source": [
    "# Introduction to Python\n",
    "\n",
    "## Contents\n",
    "1. Variables\n",
    "2. Lists\n",
    "3. Strings\n",
    "4. Dictionaries\n",
    "5. If/Else and Bools\n",
    "6. Loops\n",
    "7. Functions\n",
    "8. Reading a file\n",
    "9. Plotting a histogram\n",
    "10. Plotting a scatterplot"
   ]
  },
  {
   "cell_type": "markdown",
   "metadata": {},
   "source": [
    "## How to use a notebook\n",
    "- Shift + Enter (Execute code and go to next line)\n",
    "- Ctrl + Enter \n",
    "- Kernel (menu bar) - restart to reset notebook"
   ]
  },
  {
   "cell_type": "markdown",
   "metadata": {},
   "source": [
    "## 1. Variables"
   ]
  },
  {
   "cell_type": "code",
   "execution_count": 1,
   "metadata": {},
   "outputs": [],
   "source": [
    "# \"#\" This is a comment. It is used to provide information."
   ]
  },
  {
   "cell_type": "code",
   "execution_count": 2,
   "metadata": {},
   "outputs": [
    {
     "name": "stdout",
     "output_type": "stream",
     "text": [
      "2020-09-17\n",
      "September 17, 2020\n"
     ]
    }
   ],
   "source": [
    "DS102_date = '2020-09-17'\n",
    "print(DS102_date)\n",
    "DS102_date = 'September 17, 2020'\n",
    "print(DS102_date)\n"
   ]
  },
  {
   "cell_type": "code",
   "execution_count": 3,
   "metadata": {},
   "outputs": [
    {
     "name": "stdout",
     "output_type": "stream",
     "text": [
      "\n"
     ]
    }
   ],
   "source": [
    "# Assign the variable \"a\" the integer 2\n",
    "a = ''\n",
    "\n",
    "# Using the print statement results in 2\n",
    "print (a)"
   ]
  },
  {
   "cell_type": "code",
   "execution_count": 4,
   "metadata": {},
   "outputs": [
    {
     "name": "stdout",
     "output_type": "stream",
     "text": [
      "Hello World!\n",
      "<class 'str'>\n"
     ]
    }
   ],
   "source": [
    "# You can do the same with a string (text)\n",
    "b = \"Hello World!\"\n",
    "print (b)\n",
    "print(type(b))"
   ]
  },
  {
   "cell_type": "code",
   "execution_count": 5,
   "metadata": {},
   "outputs": [
    {
     "name": "stdout",
     "output_type": "stream",
     "text": [
      "This is addition: 5\n",
      "This is subtraction: 1\n",
      "This is multiplication: 6\n",
      "This is division: 1.5\n",
      "This is modulus: 1\n"
     ]
    }
   ],
   "source": [
    "# Now assign values to 2 variables and then perform arithmatic\n",
    "x = 3\n",
    "y = 2\n",
    "\n",
    "print (\"This is addition:\", x+y)\n",
    "print (\"This is subtraction:\", x-y)\n",
    "print (\"This is multiplication:\", x*y)\n",
    "print (\"This is division:\", x/y)\n",
    "print (\"This is modulus:\", x%y)"
   ]
  },
  {
   "cell_type": "code",
   "execution_count": 6,
   "metadata": {},
   "outputs": [
    {
     "name": "stdout",
     "output_type": "stream",
     "text": [
      "2.5\n"
     ]
    }
   ],
   "source": [
    "# Store average of x and y in z\n",
    "z = (x + y) / 2\n",
    "\n",
    "print(z)"
   ]
  },
  {
   "cell_type": "code",
   "execution_count": 7,
   "metadata": {},
   "outputs": [
    {
     "name": "stdout",
     "output_type": "stream",
     "text": [
      "\n"
     ]
    }
   ],
   "source": [
    "# Try calculating z + x, store in the variable \"aa\"\n",
    "\n",
    "aa = ''\n",
    "\n",
    "print(aa)"
   ]
  },
  {
   "cell_type": "code",
   "execution_count": 8,
   "metadata": {},
   "outputs": [
    {
     "name": "stdout",
     "output_type": "stream",
     "text": [
      "100\n",
      "1000\n",
      "1\n",
      "0\n"
     ]
    }
   ],
   "source": [
    "making_exponents = 10 ** 2\n",
    "print(making_exponents)\n",
    "# Prints 100\n",
    "\n",
    "more_exponents = 10 ** 3\n",
    "print(more_exponents)\n",
    "# Prints 1,000\n",
    "\n",
    "making_modulus = 1 % 2\n",
    "print(making_modulus)\n",
    "# Prints 1\n",
    "\n",
    "more_modulus = 2 % 2\n",
    "print(more_modulus)\n",
    "# Prints 0"
   ]
  },
  {
   "cell_type": "markdown",
   "metadata": {},
   "source": [
    "Variables Quiz\n",
    "\n",
    "Which of the following statements are true:\n",
    "\n",
    "A) Variables must be declared before they can be used\n",
    "\n",
    "B) After a variable is being assigned a value of a certain type, it cannot be assigned different type values\n",
    "\n",
    "C) Gilead_ID and gilead_id cannot be used interchangeably\n",
    "\n",
    "D) Executing: '3' + 2 will evaluate to '5'\n",
    "\n",
    "E) None of the above\n",
    "\n"
   ]
  },
  {
   "cell_type": "markdown",
   "metadata": {},
   "source": [
    "## 2. Strings\n",
    "Strings are a special type of variable that represents text. They can be stored, indexed, and even used in training machine learning algorithms!\n"
   ]
  },
  {
   "cell_type": "code",
   "execution_count": 9,
   "metadata": {},
   "outputs": [
    {
     "name": "stdout",
     "output_type": "stream",
     "text": [
      "py\n",
      "thon\n",
      "reconstitute:  python\n"
     ]
    }
   ],
   "source": [
    "python_string = \"python\"\n",
    "# first two letters in the word\n",
    "print(python_string[0:2])\n",
    "\n",
    "# last four letters in the word\n",
    "print(python_string[-4:])\n",
    "\n",
    "# add everyting back\n",
    "reconstitute_python_string = python_string[0:2] + python_string[-4:]\n",
    "print('reconstitute: ', reconstitute_python_string)"
   ]
  },
  {
   "cell_type": "code",
   "execution_count": 10,
   "metadata": {},
   "outputs": [
    {
     "data": {
      "text/plain": [
       "'This is a sentence stored in the variable text.'"
      ]
     },
     "execution_count": 10,
     "metadata": {},
     "output_type": "execute_result"
    }
   ],
   "source": [
    "# Store a sentence as a string variable\n",
    "text = \"This is a sentence stored in the variable text.\"\n",
    "\n",
    "# In a notebook format you can simply print the value of the variable by declaring it.\n",
    "text"
   ]
  },
  {
   "cell_type": "code",
   "execution_count": 11,
   "metadata": {},
   "outputs": [
    {
     "data": {
      "text/plain": [
       "'i'"
      ]
     },
     "execution_count": 11,
     "metadata": {},
     "output_type": "execute_result"
    }
   ],
   "source": [
    "# Let's get the 3rd character of the string\n",
    "text[2]"
   ]
  },
  {
   "cell_type": "code",
   "execution_count": 12,
   "metadata": {},
   "outputs": [
    {
     "data": {
      "text/plain": [
       "'sentence stored'"
      ]
     },
     "execution_count": 12,
     "metadata": {},
     "output_type": "execute_result"
    }
   ],
   "source": [
    "# Strings can be range indexed.\n",
    "# Let's grab the word \"sentence\"\n",
    "text[10:25]"
   ]
  },
  {
   "cell_type": "code",
   "execution_count": 13,
   "metadata": {},
   "outputs": [
    {
     "data": {
      "text/plain": [
       "'13579'"
      ]
     },
     "execution_count": 13,
     "metadata": {},
     "output_type": "execute_result"
    }
   ],
   "source": [
    "# Slicing: Skipping all even characters\n",
    "text = \"123456789\"\n",
    "\n",
    "text[::2]"
   ]
  },
  {
   "cell_type": "code",
   "execution_count": 14,
   "metadata": {},
   "outputs": [
    {
     "data": {
      "text/plain": [
       "'24'"
      ]
     },
     "execution_count": 14,
     "metadata": {},
     "output_type": "execute_result"
    }
   ],
   "source": [
    "# Skipping all even characters between second and fourth letter\n",
    "text[1:4:2]"
   ]
  },
  {
   "cell_type": "code",
   "execution_count": 15,
   "metadata": {},
   "outputs": [
    {
     "name": "stdout",
     "output_type": "stream",
     "text": [
      "The text variable has the following number of characters:  47\n"
     ]
    }
   ],
   "source": [
    "# \"len\" gets the number of characters in text or the length of a list\n",
    "text = \"This is a sentence stored in the variable text.\"\n",
    "\n",
    "length = len(text)\n",
    "\n",
    "print(\"The text variable has the following number of characters: \", length)"
   ]
  },
  {
   "cell_type": "code",
   "execution_count": 16,
   "metadata": {},
   "outputs": [
    {
     "data": {
      "text/plain": [
       "'Hello World! Hello World!'"
      ]
     },
     "execution_count": 16,
     "metadata": {},
     "output_type": "execute_result"
    }
   ],
   "source": [
    "# Text concatenation in Python uses the addition operator\n",
    "\"Hello\" + \" World\" + \"! \" + \"Hello\" + \" World\" + \"!\""
   ]
  },
  {
   "cell_type": "code",
   "execution_count": 17,
   "metadata": {},
   "outputs": [
    {
     "name": "stdout",
     "output_type": "stream",
     "text": [
      "Fix 1:     Data SCIENCE 102   \n",
      "Fix 2:  Data SCIENCE 102\n",
      "Fix 3:  DATA SCIENCE 102\n",
      "Fix 4:  DATA SCIENCE 102: Python\n"
     ]
    }
   ],
   "source": [
    "# course name with some mistakes\n",
    "course_name = '   Data SCIENCE 1002   '\n",
    "\n",
    "# fix course number\n",
    "course_name = course_name.replace('1002', '102')\n",
    "print('Fix 1: ', course_name)\n",
    "\n",
    "# fix extra characters\n",
    "course_name = course_name.strip()\n",
    "print('Fix 2: ', course_name)\n",
    "\n",
    "# fix uppercase course name\n",
    "course_name = course_name.upper()\n",
    "print('Fix 3: ', course_name)\n",
    "\n",
    "# fix uppercase course name\n",
    "course_name = course_name + ': Python'\n",
    "print('Fix 4: ', course_name)\n"
   ]
  },
  {
   "cell_type": "markdown",
   "metadata": {},
   "source": [
    "Strings Quiz\n",
    "\n",
    "Which of the following statements are true:\n",
    "\n",
    "A) Print(course_name[0:4]) will output 'DATA'\n",
    "\n",
    "B) course_data[:] is course_data\n",
    "\n",
    "C) 'Hello' + 'World' is different from 'World' + 'Hello'\n",
    "\n",
    "D) course_name.lower().upper() is different from course_name\n",
    "\n",
    "E) All of the above\n"
   ]
  },
  {
   "cell_type": "markdown",
   "metadata": {},
   "source": [
    "## 3a. Lists\n",
    "Lists are objects that contain many variables"
   ]
  },
  {
   "cell_type": "code",
   "execution_count": 18,
   "metadata": {},
   "outputs": [
    {
     "name": "stdout",
     "output_type": "stream",
     "text": [
      "Full list is: ['a', ['bb', ['ccc', 'ddd'], 'ee', 'ff'], 'g', ['hh', 'ii'], 'j']\n",
      "5\n"
     ]
    }
   ],
   "source": [
    "x_11 = ['ccc', 'ddd']\n",
    "x_1 = ['bb', x_11, 'ee', 'ff']\n",
    "x_3 = ['hh', 'ii']\n",
    "x = ['a', x_1, 'g', x_3, 'j']\n",
    "print('Full list is:', x)\n",
    "print(len(x))"
   ]
  },
  {
   "cell_type": "code",
   "execution_count": 19,
   "metadata": {},
   "outputs": [
    {
     "name": "stdout",
     "output_type": "stream",
     "text": [
      "['ccc', 'ddd']\n",
      "['bb', ['ccc', 'ddd'], 'ee', 'ff']\n",
      "['hh', 'ii']\n"
     ]
    }
   ],
   "source": [
    "# compare to the lists above\n",
    "print(x[1][1])\n",
    "print(x[1])\n",
    "print(x[3])\n"
   ]
  },
  {
   "cell_type": "code",
   "execution_count": 20,
   "metadata": {},
   "outputs": [
    {
     "data": {
      "text/plain": [
       "['a', 'bb', 'ccc', 'ddd', 'ee', 'ff', 'g', 'hh', 'ii', 'j']"
      ]
     },
     "execution_count": 20,
     "metadata": {},
     "output_type": "execute_result"
    }
   ],
   "source": [
    "from pandas.core.common import flatten\n",
    "list(flatten(x))\n"
   ]
  },
  {
   "cell_type": "code",
   "execution_count": 21,
   "metadata": {},
   "outputs": [
    {
     "name": "stdout",
     "output_type": "stream",
     "text": [
      "List A: [1, 2, 3, 4, 5]\n",
      "List B: [1, 'Hello World!', 3.5, ['List', 'In', 'List']]\n"
     ]
    }
   ],
   "source": [
    "# Lists can contain either a single type of variable such as integers below\n",
    "listA = [1, 2, 3, 4, 5]\n",
    "\n",
    "# ... or several different types including numbers, strings, and lists\n",
    "listB = [1, \"Hello World!\", 3.5, ['List', 'In', 'List']]\n",
    "\n",
    "print(\"List A:\", listA)\n",
    "print(\"List B:\", listB)"
   ]
  },
  {
   "cell_type": "code",
   "execution_count": 22,
   "metadata": {},
   "outputs": [
    {
     "name": "stdout",
     "output_type": "stream",
     "text": [
      "[[1, 0, 1], [0, 3, 0], [2, 0, 2]]\n",
      "[0, 3, 0]\n",
      "1\n"
     ]
    }
   ],
   "source": [
    "# As you saw from listB, a list can contain a \"list of lists\" which if you are familiar with linear algebra is a matrix\n",
    "matrixC = [[1, 0, 1],\n",
    "           [0, 3, 0],\n",
    "           [2, 0, 2]]\n",
    "\n",
    "print(matrixC)\n",
    "print(matrixC[1])\n",
    "print(matrixC[0][0])"
   ]
  },
  {
   "cell_type": "markdown",
   "metadata": {},
   "source": [
    "### Lists can be \"indexed\", meaning we can use the position of the values in a list to retrieve them."
   ]
  },
  {
   "cell_type": "code",
   "execution_count": 23,
   "metadata": {},
   "outputs": [
    {
     "data": {
      "text/plain": [
       "'\\nTriple quotes denote comment block.\\n\\nList indices start at [0] in Python.\\n\\nListA = [1, <-- first item index = 0\\n         2, <-- second item index = 1\\n         3,\\n         4,\\n         5] <-- fifth item index = 4 or -1\\n\\n'"
      ]
     },
     "execution_count": 23,
     "metadata": {},
     "output_type": "execute_result"
    }
   ],
   "source": [
    "'''\n",
    "Triple quotes denote comment block.\n",
    "\n",
    "List indices start at [0] in Python.\n",
    "\n",
    "ListA = [1, <-- first item index = 0\n",
    "         2, <-- second item index = 1\n",
    "         3,\n",
    "         4,\n",
    "         5] <-- fifth item index = 4 or -1\n",
    "\n",
    "'''"
   ]
  },
  {
   "cell_type": "code",
   "execution_count": 24,
   "metadata": {},
   "outputs": [
    {
     "name": "stdout",
     "output_type": "stream",
     "text": [
      "3\n"
     ]
    }
   ],
   "source": [
    "# Return the 3rd value of listA\n",
    "listA = [1, 2, 3, 4, 5]\n",
    "\n",
    "print( listA[2] )"
   ]
  },
  {
   "cell_type": "code",
   "execution_count": 25,
   "metadata": {},
   "outputs": [
    {
     "name": "stdout",
     "output_type": "stream",
     "text": [
      "[1, 2, 3]\n"
     ]
    }
   ],
   "source": [
    "# Python syntax includes all values up to but not including the trailing index.\n",
    "# Let's get the first 3 values of A3.\n",
    "\n",
    "print( listA[0:3] )"
   ]
  },
  {
   "cell_type": "code",
   "execution_count": 26,
   "metadata": {},
   "outputs": [
    {
     "name": "stdout",
     "output_type": "stream",
     "text": [
      "2\n"
     ]
    }
   ],
   "source": [
    "# Negative indices count backwards starting at -1\n",
    "\n",
    "print( listA[-4] )"
   ]
  },
  {
   "cell_type": "code",
   "execution_count": 27,
   "metadata": {},
   "outputs": [
    {
     "name": "stdout",
     "output_type": "stream",
     "text": [
      "[1, 2, 3, 4, 5, 6]\n"
     ]
    }
   ],
   "source": [
    "# You can add something to a list by using the built-in function \"append\".\n",
    "\n",
    "listA.append(6)\n",
    "\n",
    "print ( listA )"
   ]
  },
  {
   "cell_type": "code",
   "execution_count": 28,
   "metadata": {},
   "outputs": [
    {
     "name": "stdout",
     "output_type": "stream",
     "text": [
      "3\n",
      "[[1, 0, 1], [0, 3, 0], [2, 0, 2]]\n"
     ]
    }
   ],
   "source": [
    "# Matrix indices work the same way.\n",
    "\n",
    "matrixC = [[1, 0, 1], [0, 3, 0], [2, 0, 2]]\n",
    "\n",
    "# Let's get the middle value of MatrixC (second row, second column)\n",
    "\n",
    "print( matrixC[1][1] )\n",
    "print(matrixC)"
   ]
  },
  {
   "cell_type": "code",
   "execution_count": 29,
   "metadata": {},
   "outputs": [
    {
     "name": "stdout",
     "output_type": "stream",
     "text": [
      "[[1, 0, 1], [0, 3, 0]]\n"
     ]
    }
   ],
   "source": [
    "matrixC.pop()\n",
    "print(matrixC)"
   ]
  },
  {
   "cell_type": "code",
   "execution_count": 30,
   "metadata": {},
   "outputs": [
    {
     "name": "stdout",
     "output_type": "stream",
     "text": [
      "[1, 3, 5, 7, 9, 11]\n"
     ]
    }
   ],
   "source": [
    "# Practice retrieving the 5th element of the following list, replace the : mark with the correct index\n",
    "list_practice = [1, 3, 5, 7, 9, 11]\n",
    "\n",
    "print(list_practice[:])"
   ]
  },
  {
   "cell_type": "markdown",
   "metadata": {},
   "source": [
    "Which of the following statements are true:\n",
    "\n",
    "A) All elements in a list are unique\n",
    "\n",
    "B) If list1 = [1, 'Data', ['Science', 102]], then x[2] returns 102\n",
    "\n",
    "C) After running list1.pop(), list1 is now [1, 'Data', ['Science']]\n",
    "\n",
    "D) If list1 = [1, 'Data', ['Science', 102]], then list1.append('Python') returns [1, 'Data', ['Science', 102], 'Python']\n",
    "\n",
    "E) None of the above\n",
    "\n"
   ]
  },
  {
   "cell_type": "markdown",
   "metadata": {},
   "source": [
    "## 3b. Sets\n",
    "A collection of items that has no index and not sorted"
   ]
  },
  {
   "cell_type": "code",
   "execution_count": 31,
   "metadata": {},
   "outputs": [
    {
     "name": "stdout",
     "output_type": "stream",
     "text": [
      "{'is', 'a', 'set', 'This'}\n",
      "{'is', 3, 'a', 'set', 'More ...', 'This'}\n"
     ]
    },
    {
     "data": {
      "text/plain": [
       "False"
      ]
     },
     "execution_count": 31,
     "metadata": {},
     "output_type": "execute_result"
    }
   ],
   "source": [
    "set_example1 = {'This', 'is', 'a', 'set'}\n",
    "print(set_example1)\n",
    "set_example1.add('More ...')\n",
    "set_example1.add(3)\n",
    "print(set_example1)\n",
    "'These' in set_example1"
   ]
  },
  {
   "cell_type": "code",
   "execution_count": 32,
   "metadata": {},
   "outputs": [
    {
     "name": "stdout",
     "output_type": "stream",
     "text": [
      "{'is', 'a', 'set', 'different', 'This'}\n"
     ]
    }
   ],
   "source": [
    "set_example1 = {'This', 'is', 'a', 'set'}\n",
    "set_example2 = {'This', 'is', 'a', 'different', 'set'}\n",
    "print(set_example1.union(set_example2))"
   ]
  },
  {
   "cell_type": "code",
   "execution_count": 33,
   "metadata": {},
   "outputs": [
    {
     "name": "stdout",
     "output_type": "stream",
     "text": [
      "{'is', 'a', 'set', 'This'}\n"
     ]
    }
   ],
   "source": [
    "set_example4 = set_example1.intersection(set_example2)\n",
    "print(set_example4)"
   ]
  },
  {
   "cell_type": "markdown",
   "metadata": {},
   "source": [
    "## 4. Dictionaries\n",
    "A Dictionary can be thought of as a custom list that can use both numerical indices as well as keywords to retrieve values. Dictionaries are one of the most useful variable types and form the backbone of a very common object called a hashmap that is used to speed up software processes."
   ]
  },
  {
   "cell_type": "code",
   "execution_count": 34,
   "metadata": {},
   "outputs": [
    {
     "name": "stdout",
     "output_type": "stream",
     "text": [
      "{'key1': 1, 'key2': 2, 'key3': 'Hi Mom!', 'key4': 16.55}\n"
     ]
    }
   ],
   "source": [
    "# Dictionaries come in a list of key:value pairs.\n",
    "\n",
    "dictA = { \"key1\" : 1,\n",
    "          \"key2\" : 2,\n",
    "          \"key3\" : \"Hi Mom!\",\n",
    "          \"key4\" : 16.55\n",
    "        }\n",
    "\n",
    "print(dictA)"
   ]
  },
  {
   "cell_type": "code",
   "execution_count": 35,
   "metadata": {},
   "outputs": [
    {
     "data": {
      "text/plain": [
       "'Hi Mom!'"
      ]
     },
     "execution_count": 35,
     "metadata": {},
     "output_type": "execute_result"
    }
   ],
   "source": [
    "# Dictionaries can be referenced by their numerical indices similar to lists.\n",
    "\n",
    "dictA[\"key3\"]"
   ]
  },
  {
   "cell_type": "code",
   "execution_count": 36,
   "metadata": {},
   "outputs": [
    {
     "data": {
      "text/plain": [
       "dict_keys(['key1', 'key2', 'key3', 'key4'])"
      ]
     },
     "execution_count": 36,
     "metadata": {},
     "output_type": "execute_result"
    }
   ],
   "source": [
    "# What if I want to access the keys of the dictionary?\n",
    "\n",
    "dictA.keys()"
   ]
  },
  {
   "cell_type": "code",
   "execution_count": 37,
   "metadata": {},
   "outputs": [
    {
     "data": {
      "text/plain": [
       "dict_values([1, 2, 'Hi Mom!', 16.55])"
      ]
     },
     "execution_count": 37,
     "metadata": {},
     "output_type": "execute_result"
    }
   ],
   "source": [
    "# And just the values?\n",
    "\n",
    "dictA.values()"
   ]
  },
  {
   "cell_type": "code",
   "execution_count": 38,
   "metadata": {},
   "outputs": [
    {
     "data": {
      "text/plain": [
       "'Hi Mom!'"
      ]
     },
     "execution_count": 38,
     "metadata": {},
     "output_type": "execute_result"
    }
   ],
   "source": [
    "# What if we want to use numerical indices?\n",
    "# Starting in Python 3.7, dictionaries preserve order but require list conversion of the values\n",
    "list(dictA.values())[2]"
   ]
  },
  {
   "cell_type": "code",
   "execution_count": 39,
   "metadata": {},
   "outputs": [
    {
     "name": "stdout",
     "output_type": "stream",
     "text": [
      "Hello World!\n",
      "6.5\n",
      "Hello5.5\n"
     ]
    }
   ],
   "source": [
    "# Now practice by using the following dictionary dictB and add the two strings together into a sentence.\n",
    "# Your output should be \"Hello World!\"\n",
    "\n",
    "dictB = { \"number_1\" : 1,\n",
    "          \"text_1\" : \"Hello\",\n",
    "          \"number_2\" : 5.5,\n",
    "          \"text_2\" : \" World!\"\n",
    "        }\n",
    "\n",
    "print(dictB[\"text_1\"] + dictB[\"text_2\"])\n",
    "print(dictB[\"number_1\"] + dictB[\"number_2\"])\n",
    "print(dictB[\"text_1\"] + str(dictB[\"number_2\"]))"
   ]
  },
  {
   "cell_type": "code",
   "execution_count": 40,
   "metadata": {},
   "outputs": [
    {
     "name": "stdout",
     "output_type": "stream",
     "text": [
      "3.1415926\n"
     ]
    }
   ],
   "source": [
    "# Retrieve the number 5.5 using only dictB, replace the question ? mark with the correct key\n",
    "dictB['number_3'] = 3.1415926\n",
    "print(dictB['number_3'])"
   ]
  },
  {
   "cell_type": "markdown",
   "metadata": {},
   "source": [
    "Dictionary Quiz\n",
    "\n",
    "What is the results of running the code below: \n",
    "\n",
    "dict1 = {\"name\": \"Osan\", \"company\": 'Gilead Sciences'}\n",
    "\n",
    "print(dict1['department'])\n",
    "\n",
    "\n",
    "A) it will return an error\n",
    "\n",
    "B) it will prompt the user to add a value\n",
    "\n",
    "C) it will return no value\n",
    "\n",
    "D) it will return an error, as dict = {} was not initialized properly\n",
    "\n",
    "E) none of the above\n",
    "\n"
   ]
  },
  {
   "cell_type": "markdown",
   "metadata": {},
   "source": [
    "## 5. If/Else and Bools\n",
    "1. If/Else statements form the backbone of heuristic artificial intelligence. Basically giving you a choice of executing a statement in multiple ways based on a condition.\n",
    "2. Boolean variables allow you to evaluate a condition as True or False, forming the ability to execute conditions based on the boolean variable."
   ]
  },
  {
   "cell_type": "code",
   "execution_count": 41,
   "metadata": {},
   "outputs": [
    {
     "name": "stdout",
     "output_type": "stream",
     "text": [
      "December is neither the 11th nor 12th month.\n"
     ]
    }
   ],
   "source": [
    "# Below is a conditional statement using if/else, yes this is actually Artificial Intelligence!\n",
    "# Try changing the value of December and seeing what output you get!\n",
    "December = 13\n",
    "\n",
    "if December == 12:\n",
    "    print (\"Yes, December is the 12th month.\")\n",
    "elif December == 11:\n",
    "    print (\"December could be the 11th month.\")\n",
    "else:\n",
    "    print (\"December is neither the 11th nor 12th month.\")"
   ]
  },
  {
   "cell_type": "code",
   "execution_count": 42,
   "metadata": {},
   "outputs": [
    {
     "name": "stdout",
     "output_type": "stream",
     "text": [
      "This is a false statement and should evaluate to false: False\n",
      "This is a true statement and should evaluate to true: True\n"
     ]
    }
   ],
   "source": [
    "# Ok hold on a minute, what is the operator double equal sign? ==\n",
    "# The double equal sign is a boolean operator, it evaluates if the left and right side are equal.\n",
    "print (\"This is a false statement and should evaluate to false:\", 6 == 5)\n",
    "print (\"This is a true statement and should evaluate to true:\", 5 == 5)"
   ]
  },
  {
   "cell_type": "code",
   "execution_count": 43,
   "metadata": {},
   "outputs": [
    {
     "name": "stdout",
     "output_type": "stream",
     "text": [
      "This is the OR operator | and should evaluate to True: True\n",
      "This is the AND operator & and should evaluate to False: False\n",
      "This is the less than operator and should evaluate to True: True\n",
      "This is the greater than operator and should evaluate to False: False\n"
     ]
    }
   ],
   "source": [
    "# What other types of boolean operators are there?\n",
    "print (\"This is the OR operator | and should evaluate to True:\", (6==5)|(5==5))\n",
    "print (\"This is the AND operator & and should evaluate to False:\", (6==5)&(5==5))\n",
    "print (\"This is the less than operator and should evaluate to True:\", 5 < 6)\n",
    "print (\"This is the greater than operator and should evaluate to False:\", 5 > 6)"
   ]
  },
  {
   "cell_type": "code",
   "execution_count": 44,
   "metadata": {},
   "outputs": [
    {
     "name": "stdout",
     "output_type": "stream",
     "text": [
      "a is less than 5.\n"
     ]
    }
   ],
   "source": [
    "# Basically we can combine boolean operators to make some really flexible and complex logic.\n",
    "# Try changing the value of \"a\" below and see what output you get.\n",
    "\n",
    "a = -10\n",
    "\n",
    "if a == 5:\n",
    "    print (\"a is 5.\")\n",
    "elif a > 5: # elif is \"else if\" and is used to add conditions to the if/else conditional tree.\n",
    "    print (\"a is greater than 5.\")\n",
    "else:\n",
    "    print (\"a is less than 5.\")"
   ]
  },
  {
   "cell_type": "code",
   "execution_count": 45,
   "metadata": {},
   "outputs": [
    {
     "name": "stdout",
     "output_type": "stream",
     "text": [
      "[0, 1, 2, 3, 4, 5, 6, 7, 8, 9, 10, 11, 12]\n",
      "Even number:  0\n",
      "Odd  number:  1\n",
      "Even number:  2\n",
      "Odd  number:  3\n",
      "Even number:  4\n",
      "Odd  number:  5\n",
      "Even number:  6\n",
      "Odd  number:  7\n",
      "Even number:  8\n",
      "Odd  number:  9\n",
      "Even number:  10\n",
      "Odd  number:  11\n",
      "Even number:  12\n"
     ]
    }
   ],
   "source": [
    "new_list = list(range(13))\n",
    "print(new_list)\n",
    "for x in new_list:\n",
    "    if(x%2):\n",
    "        print('Odd  number: ', x)\n",
    "    else:\n",
    "        print('Even number: ', x)"
   ]
  },
  {
   "cell_type": "markdown",
   "metadata": {},
   "source": [
    "If/else quiz\n",
    "\n",
    "An if statement must evaluate to \n",
    "\n",
    "A) Yes or No\n",
    "\n",
    "B) True and False\n",
    "\n",
    "C) True\n",
    "\n",
    "D) False\n",
    "\n",
    "E) True or False\n",
    "\n"
   ]
  },
  {
   "cell_type": "markdown",
   "metadata": {},
   "source": [
    "## 6. Loops\n",
    "1. For loops iterate through a specific range of values or a list\n",
    "2. While loops continuously execute as long as they are true. BE CAREFUL! They can execute infinitely and crash your computer. :("
   ]
  },
  {
   "cell_type": "code",
   "execution_count": 46,
   "metadata": {},
   "outputs": [
    {
     "name": "stdout",
     "output_type": "stream",
     "text": [
      "5\n",
      "7\n",
      "9\n"
     ]
    }
   ],
   "source": [
    "# This for loop iterates through a range of values and prints each one.\n",
    "for i in range(5, 11, 2):\n",
    "    print(i)"
   ]
  },
  {
   "cell_type": "code",
   "execution_count": 47,
   "metadata": {},
   "outputs": [
    {
     "name": "stdout",
     "output_type": "stream",
     "text": [
      "0\n",
      "1\n",
      "1\n",
      "2\n",
      "3\n",
      "5\n",
      "8\n"
     ]
    }
   ],
   "source": [
    "# You can also iterate through a list\n",
    "listA = [0, 1, 1, 2, 3, 5, 8]\n",
    "for i in listA:\n",
    "    print(i)"
   ]
  },
  {
   "cell_type": "code",
   "execution_count": 48,
   "metadata": {},
   "outputs": [
    {
     "name": "stdout",
     "output_type": "stream",
     "text": [
      "0 Hello\n",
      "1 World\n",
      "2 !\n"
     ]
    }
   ],
   "source": [
    "# You can iterate with both the index AND the value of a list\n",
    "listB = [\"Hello\", \"World\", \"!\"]\n",
    "for i, j in enumerate(listB):\n",
    "    print(i, j)"
   ]
  },
  {
   "cell_type": "code",
   "execution_count": 49,
   "metadata": {},
   "outputs": [
    {
     "name": "stdout",
     "output_type": "stream",
     "text": [
      "Key: key1\n",
      "Value: 1\n",
      "Key: key2\n",
      "Value: 2\n",
      "Key: key3\n",
      "Value: Hi Mom!\n",
      "Key: key4\n",
      "Value: 16.55\n"
     ]
    }
   ],
   "source": [
    "# You can even iterate through a dictionary\n",
    "dictA = { \"key1\" : 1,\n",
    "          \"key2\" : 2,\n",
    "          \"key3\" : \"Hi Mom!\",\n",
    "          \"key4\" : 16.55\n",
    "        }\n",
    "\n",
    "for k in dictA:\n",
    "    print (\"Key:\", k)\n",
    "    print (\"Value:\", dictA[k])"
   ]
  },
  {
   "cell_type": "code",
   "execution_count": 50,
   "metadata": {},
   "outputs": [
    {
     "name": "stdout",
     "output_type": "stream",
     "text": [
      "0\n",
      "1\n",
      "2\n",
      "3\n",
      "4\n"
     ]
    }
   ],
   "source": [
    "# While loops are typically combined with a conditional statement or a bool\n",
    "a = 4\n",
    "i = 0\n",
    "while (i <= a):\n",
    "    print(i)\n",
    "    i = i + 1 # Remember you need to increment i to end the loop when i reaches a or it will run forever!"
   ]
  },
  {
   "cell_type": "code",
   "execution_count": 51,
   "metadata": {},
   "outputs": [
    {
     "name": "stdout",
     "output_type": "stream",
     "text": [
      "0\n",
      "1\n",
      "2\n",
      "3\n",
      "4\n"
     ]
    }
   ],
   "source": [
    "# You can use a conditional to \"break\" a loop early and end the loop\n",
    "a = 4\n",
    "i = 0\n",
    "while(True):\n",
    "    print(i)\n",
    "    i = i + 1\n",
    "    if (i > a):\n",
    "        break"
   ]
  },
  {
   "cell_type": "code",
   "execution_count": 81,
   "metadata": {},
   "outputs": [
    {
     "name": "stdout",
     "output_type": "stream",
     "text": [
      "0 I\n",
      "1 am\n",
      "2 not\n",
      "3 empty\n",
      "loop ends when the element is empty\n"
     ]
    }
   ],
   "source": [
    "# empty can be a substitute for False\n",
    "a = ['I', 'am', 'not', 'empty', [], 'at', 'all!']\n",
    "i = 0\n",
    "while(a[i]):\n",
    "    print(i, a[i])\n",
    "    i = i + 1\n",
    "  \n",
    "print('loop ends when the element is', a[i-1])"
   ]
  },
  {
   "cell_type": "code",
   "execution_count": 53,
   "metadata": {},
   "outputs": [
    {
     "name": "stdout",
     "output_type": "stream",
     "text": [
      "1\n",
      "3\n",
      "5\n",
      "7\n"
     ]
    }
   ],
   "source": [
    "# Using either a for loop or a while loop, print only the odd values of the following list.\n",
    "listC = [1, 2, 3, 4, 5, 6, 7]\n",
    "\n",
    "for number in listC:\n",
    "    if (number % 2) != 0:\n",
    "        print(number)"
   ]
  },
  {
   "cell_type": "code",
   "execution_count": 54,
   "metadata": {},
   "outputs": [
    {
     "name": "stdout",
     "output_type": "stream",
     "text": [
      "AO Analytics\n",
      "AO Data Science\n",
      "AO Machine Learning\n",
      "AO AI\n",
      "LIS Analytics\n",
      "LIS Data Science\n",
      "LIS Machine Learning\n",
      "LIS AI\n",
      "Bioinformatics Analytics\n",
      "Bioinformatics Data Science\n",
      "Bioinformatics Machine Learning\n",
      "Bioinformatics AI\n",
      "\n",
      "\n",
      "Analytics AO\n",
      "Analytics LIS\n",
      "Analytics Bioinformatics\n",
      "Data Science AO\n",
      "Data Science LIS\n",
      "Data Science Bioinformatics\n",
      "Machine Learning AO\n",
      "Machine Learning LIS\n",
      "Machine Learning Bioinformatics\n",
      "AI AO\n",
      "AI LIS\n",
      "AI Bioinformatics\n"
     ]
    }
   ],
   "source": [
    "# nested loops\n",
    "functions1 = [\"Analytics\", \"Data Science\", \"Machine Learning\", 'AI']\n",
    "departments = [\"AO\", \"LIS\", \"Bioinformatics\"]\n",
    "\n",
    "for x in departments:\n",
    "    for y in functions1:\n",
    "        print(x, y)\n",
    "\n",
    "print('\\n')\n",
    "\n",
    "# or should it be?\n",
    "for x in functions1:\n",
    "    for y in departments:\n",
    "        print(x, y)"
   ]
  },
  {
   "cell_type": "markdown",
   "metadata": {},
   "source": [
    "Loop quiz\n",
    "\n",
    "the following code \n",
    "\n",
    "list1 = ['I', 'am', 'not']\n",
    "\n",
    "while(list1):\n",
    "    print(list1.pop())\n",
    "\n",
    "print('done')\n",
    "\n",
    "\n",
    "prints out\n",
    "\n",
    "A) An error\n",
    "B) The words in the sentence 'I am not done', in this order\n",
    "C) The words in the sentence 'I am not done', but not in this order\n",
    "D) The word 'done'\n",
    "E) None of the above\n"
   ]
  },
  {
   "cell_type": "markdown",
   "metadata": {},
   "source": [
    "## 7. Functions\n",
    "Functions are pieces of code that can be reused. Except in special cases, variables declared in a function only exist within that function unless used in the return statement."
   ]
  },
  {
   "cell_type": "code",
   "execution_count": 55,
   "metadata": {},
   "outputs": [],
   "source": [
    "# Let's write a function to add two numbers and then return the result.\n",
    "def myfunc(x, y):\n",
    "    \"\"\"Returns the sum of x and y\"\"\"\n",
    "    return(x+y)"
   ]
  },
  {
   "cell_type": "code",
   "execution_count": 56,
   "metadata": {},
   "outputs": [
    {
     "name": "stdout",
     "output_type": "stream",
     "text": [
      "Sum is: 15\n"
     ]
    }
   ],
   "source": [
    "# To call the previous function, invoke. You can also store the result in a new variable\n",
    "z = myfunc(5, 10)\n",
    "print(\"Sum is:\", z)"
   ]
  },
  {
   "cell_type": "code",
   "execution_count": 57,
   "metadata": {},
   "outputs": [
    {
     "name": "stdout",
     "output_type": "stream",
     "text": [
      "[1, 2, 6, 8]\n"
     ]
    }
   ],
   "source": [
    "# Practice time! Create a function with a list as the first input, an integer as the second, \n",
    "# and return in a new list all indices of the list where the value at the INDEX matches the input integer\n",
    "# Finish creating the function below\n",
    "def match_integers(listA, b):\n",
    "    \"\"\"\n",
    "    This function returns all indices of listA where the value at that index matches integer b\n",
    "    \"\"\"\n",
    "    outputlist = []\n",
    "    for index, value in enumerate(listA):\n",
    "        if value == b:\n",
    "            outputlist.append(index)\n",
    "            \n",
    "\n",
    "    return (outputlist)\n",
    "\n",
    "# Execute function\n",
    "# The statement below should print [1, 2]\n",
    "print(match_integers([1, 2, 2, 3, 4, 5, 2, 7, 2], 2))"
   ]
  },
  {
   "cell_type": "code",
   "execution_count": 58,
   "metadata": {},
   "outputs": [
    {
     "name": "stdout",
     "output_type": "stream",
     "text": [
      "2\n"
     ]
    }
   ],
   "source": [
    "# Practice creating a function that returns the third value of a list.\n",
    "# The output of the print statement should be the number \"2\".\n",
    "\n",
    "def return_third_value(listA):\n",
    "    # Write your code below here\n",
    "    \n",
    "    return listA[2]\n",
    "\n",
    "print(return_third_value([0, 1, 2, 9, 4, 5]))"
   ]
  },
  {
   "cell_type": "code",
   "execution_count": 59,
   "metadata": {},
   "outputs": [
    {
     "name": "stdout",
     "output_type": "stream",
     "text": [
      "Enter a number: 3\n",
      "Factorial of  3  is :  6\n"
     ]
    }
   ],
   "source": [
    "n = input(\"Enter a number: \")\n",
    "factorial = 1\n",
    "if int(n) >= 1:\n",
    "    for i in range(1, int(n)+1):\n",
    "        factorial = factorial * i\n",
    "print(\"Factorial of \",n , \" is : \",factorial)"
   ]
  },
  {
   "cell_type": "code",
   "execution_count": 60,
   "metadata": {},
   "outputs": [
    {
     "name": "stdout",
     "output_type": "stream",
     "text": [
      "Enter a number: 3\n",
      "6\n"
     ]
    }
   ],
   "source": [
    "num = input(\"Enter a number: \")\n",
    "\n",
    "def recur_factorial(n):\n",
    "    if n == 1:\n",
    "        return n\n",
    "    elif n < 1:\n",
    "        return (\"NA\")\n",
    "    else:\n",
    "        return n*recur_factorial(n-1)\n",
    "    \n",
    "print (recur_factorial(int(num)))"
   ]
  },
  {
   "cell_type": "markdown",
   "metadata": {},
   "source": [
    "What is the result of running the code below\n",
    "\n",
    "x = 'This is a global string'\n",
    "def string_function():\n",
    "    x = 'This is a local string'\n",
    "    print(x)\n",
    "    \n",
    "string_function()\n",
    "\n",
    "A) This is a global string\n",
    "B) This is a local string\n",
    "C) A different string\n",
    "\n",
    "\n"
   ]
  },
  {
   "cell_type": "markdown",
   "metadata": {},
   "source": [
    "## 8. Reading a file\n",
    "\n",
    "One of the most powerful things you can do with Python is read a file, manipulate the data, and then store the results in a new file. This allows you to automate day-to-day tasks that would normally take you many manual minutes/hours to accomplish\n",
    "Now let's read a file of Boston housing data and see what we can glean from the data doing some light exploration. First we must import a new library called \"pandas\". This is by far the most prolific data exploration/manipulation library in Python and appears as one of the highest ranking keywords on any data science job postings on linkedin/indeed/etc..."
   ]
  },
  {
   "cell_type": "code",
   "execution_count": 82,
   "metadata": {},
   "outputs": [],
   "source": [
    "# Let's read the csv file as a pandas data frame\n",
    "import pandas as pd\n",
    "\n",
    "url = 'https://raw.githubusercontent.com/jzhangab/DS101/master/1_Data/housing.csv'\n",
    "df = pd.read_csv(url, sep = ',')"
   ]
  },
  {
   "cell_type": "code",
   "execution_count": 83,
   "metadata": {},
   "outputs": [
    {
     "data": {
      "text/html": [
       "<div>\n",
       "<style scoped>\n",
       "    .dataframe tbody tr th:only-of-type {\n",
       "        vertical-align: middle;\n",
       "    }\n",
       "\n",
       "    .dataframe tbody tr th {\n",
       "        vertical-align: top;\n",
       "    }\n",
       "\n",
       "    .dataframe thead th {\n",
       "        text-align: right;\n",
       "    }\n",
       "</style>\n",
       "<table border=\"1\" class=\"dataframe\">\n",
       "  <thead>\n",
       "    <tr style=\"text-align: right;\">\n",
       "      <th></th>\n",
       "      <th>PID</th>\n",
       "      <th>Value</th>\n",
       "      <th>Year Built</th>\n",
       "      <th>Size</th>\n",
       "    </tr>\n",
       "  </thead>\n",
       "  <tbody>\n",
       "    <tr>\n",
       "      <td>0</td>\n",
       "      <td>502550008</td>\n",
       "      <td>925623</td>\n",
       "      <td>1850.0</td>\n",
       "      <td>789.0</td>\n",
       "    </tr>\n",
       "    <tr>\n",
       "      <td>1</td>\n",
       "      <td>502550010</td>\n",
       "      <td>861750</td>\n",
       "      <td>1850.0</td>\n",
       "      <td>752.0</td>\n",
       "    </tr>\n",
       "    <tr>\n",
       "      <td>2</td>\n",
       "      <td>502550012</td>\n",
       "      <td>895373</td>\n",
       "      <td>1850.0</td>\n",
       "      <td>792.0</td>\n",
       "    </tr>\n",
       "    <tr>\n",
       "      <td>3</td>\n",
       "      <td>502550014</td>\n",
       "      <td>774058</td>\n",
       "      <td>1850.0</td>\n",
       "      <td>720.0</td>\n",
       "    </tr>\n",
       "    <tr>\n",
       "      <td>4</td>\n",
       "      <td>502550016</td>\n",
       "      <td>2279064</td>\n",
       "      <td>1850.0</td>\n",
       "      <td>1482.0</td>\n",
       "    </tr>\n",
       "  </tbody>\n",
       "</table>\n",
       "</div>"
      ],
      "text/plain": [
       "         PID    Value  Year Built    Size\n",
       "0  502550008   925623      1850.0   789.0\n",
       "1  502550010   861750      1850.0   752.0\n",
       "2  502550012   895373      1850.0   792.0\n",
       "3  502550014   774058      1850.0   720.0\n",
       "4  502550016  2279064      1850.0  1482.0"
      ]
     },
     "execution_count": 83,
     "metadata": {},
     "output_type": "execute_result"
    }
   ],
   "source": [
    "# We can use the following command to peak at the first 5 rows of the dataframe\n",
    "df.head()"
   ]
  },
  {
   "cell_type": "code",
   "execution_count": 84,
   "metadata": {},
   "outputs": [
    {
     "data": {
      "text/plain": [
       "17652"
      ]
     },
     "execution_count": 84,
     "metadata": {},
     "output_type": "execute_result"
    }
   ],
   "source": [
    "# How many data points do we have in this dataset?\n",
    "len(df)"
   ]
  },
  {
   "cell_type": "code",
   "execution_count": 85,
   "metadata": {},
   "outputs": [
    {
     "data": {
      "text/plain": [
       "1254957.6826988442"
      ]
     },
     "execution_count": 85,
     "metadata": {},
     "output_type": "execute_result"
    }
   ],
   "source": [
    "# What is the average value of property in Boston in 2019?\n",
    "# We can reference a specific column in a dataframe similar to how we do it in a dictionary.\n",
    "df['Value'].mean()"
   ]
  },
  {
   "cell_type": "code",
   "execution_count": 86,
   "metadata": {},
   "outputs": [
    {
     "data": {
      "text/plain": [
       "861750"
      ]
     },
     "execution_count": 86,
     "metadata": {},
     "output_type": "execute_result"
    }
   ],
   "source": [
    "# We can also retrieve items in a dataframe by index\n",
    "# This grabs the 2nd value from the Value column\n",
    "df['Value'][1]"
   ]
  },
  {
   "cell_type": "code",
   "execution_count": 87,
   "metadata": {},
   "outputs": [
    {
     "data": {
      "text/html": [
       "<div>\n",
       "<style scoped>\n",
       "    .dataframe tbody tr th:only-of-type {\n",
       "        vertical-align: middle;\n",
       "    }\n",
       "\n",
       "    .dataframe tbody tr th {\n",
       "        vertical-align: top;\n",
       "    }\n",
       "\n",
       "    .dataframe thead th {\n",
       "        text-align: right;\n",
       "    }\n",
       "</style>\n",
       "<table border=\"1\" class=\"dataframe\">\n",
       "  <thead>\n",
       "    <tr style=\"text-align: right;\">\n",
       "      <th></th>\n",
       "      <th>PID</th>\n",
       "      <th>Value</th>\n",
       "      <th>Year Built</th>\n",
       "      <th>Size</th>\n",
       "    </tr>\n",
       "  </thead>\n",
       "  <tbody>\n",
       "    <tr>\n",
       "      <td>0</td>\n",
       "      <td>502550008</td>\n",
       "      <td>925623</td>\n",
       "      <td>1850.0</td>\n",
       "      <td>789.0</td>\n",
       "    </tr>\n",
       "    <tr>\n",
       "      <td>1</td>\n",
       "      <td>502550010</td>\n",
       "      <td>861750</td>\n",
       "      <td>1850.0</td>\n",
       "      <td>752.0</td>\n",
       "    </tr>\n",
       "    <tr>\n",
       "      <td>2</td>\n",
       "      <td>502550012</td>\n",
       "      <td>895373</td>\n",
       "      <td>1850.0</td>\n",
       "      <td>792.0</td>\n",
       "    </tr>\n",
       "    <tr>\n",
       "      <td>3</td>\n",
       "      <td>502550014</td>\n",
       "      <td>774058</td>\n",
       "      <td>1850.0</td>\n",
       "      <td>720.0</td>\n",
       "    </tr>\n",
       "    <tr>\n",
       "      <td>5</td>\n",
       "      <td>502551000</td>\n",
       "      <td>0</td>\n",
       "      <td>1999.0</td>\n",
       "      <td>0.0</td>\n",
       "    </tr>\n",
       "  </tbody>\n",
       "</table>\n",
       "</div>"
      ],
      "text/plain": [
       "         PID   Value  Year Built   Size\n",
       "0  502550008  925623      1850.0  789.0\n",
       "1  502550010  861750      1850.0  752.0\n",
       "2  502550012  895373      1850.0  792.0\n",
       "3  502550014  774058      1850.0  720.0\n",
       "5  502551000       0      1999.0    0.0"
      ]
     },
     "execution_count": 87,
     "metadata": {},
     "output_type": "execute_result"
    }
   ],
   "source": [
    "# In pandas dataframes we can subset the dataframe using conditions\n",
    "# The following grabs all properties with values less than 1 million dollars and stores the result in a new dataframe df_1M\n",
    "df_1M = df.loc[df['Value'] < 1000000]\n",
    "df_1M.head()"
   ]
  },
  {
   "cell_type": "code",
   "execution_count": 88,
   "metadata": {},
   "outputs": [
    {
     "data": {
      "text/html": [
       "<div>\n",
       "<style scoped>\n",
       "    .dataframe tbody tr th:only-of-type {\n",
       "        vertical-align: middle;\n",
       "    }\n",
       "\n",
       "    .dataframe tbody tr th {\n",
       "        vertical-align: top;\n",
       "    }\n",
       "\n",
       "    .dataframe thead th {\n",
       "        text-align: right;\n",
       "    }\n",
       "</style>\n",
       "<table border=\"1\" class=\"dataframe\">\n",
       "  <thead>\n",
       "    <tr style=\"text-align: right;\">\n",
       "      <th></th>\n",
       "      <th>PID</th>\n",
       "      <th>Value</th>\n",
       "      <th>Year Built</th>\n",
       "      <th>Size</th>\n",
       "    </tr>\n",
       "  </thead>\n",
       "  <tbody>\n",
       "    <tr>\n",
       "      <td>count</td>\n",
       "      <td>1.765200e+04</td>\n",
       "      <td>1.765200e+04</td>\n",
       "      <td>16966.000000</td>\n",
       "      <td>1.697300e+04</td>\n",
       "    </tr>\n",
       "    <tr>\n",
       "      <td>mean</td>\n",
       "      <td>1.790584e+08</td>\n",
       "      <td>1.254958e+06</td>\n",
       "      <td>1922.984970</td>\n",
       "      <td>4.938993e+03</td>\n",
       "    </tr>\n",
       "    <tr>\n",
       "      <td>std</td>\n",
       "      <td>7.717305e+07</td>\n",
       "      <td>1.186407e+07</td>\n",
       "      <td>45.635413</td>\n",
       "      <td>2.991578e+04</td>\n",
       "    </tr>\n",
       "    <tr>\n",
       "      <td>min</td>\n",
       "      <td>1.000010e+08</td>\n",
       "      <td>0.000000e+00</td>\n",
       "      <td>1752.000000</td>\n",
       "      <td>0.000000e+00</td>\n",
       "    </tr>\n",
       "    <tr>\n",
       "      <td>25%</td>\n",
       "      <td>1.041408e+08</td>\n",
       "      <td>3.772270e+05</td>\n",
       "      <td>1899.000000</td>\n",
       "      <td>8.020000e+02</td>\n",
       "    </tr>\n",
       "    <tr>\n",
       "      <td>50%</td>\n",
       "      <td>2.005365e+08</td>\n",
       "      <td>5.456560e+05</td>\n",
       "      <td>1905.000000</td>\n",
       "      <td>1.596000e+03</td>\n",
       "    </tr>\n",
       "    <tr>\n",
       "      <td>75%</td>\n",
       "      <td>2.035161e+08</td>\n",
       "      <td>7.629378e+05</td>\n",
       "      <td>1964.000000</td>\n",
       "      <td>3.564000e+03</td>\n",
       "    </tr>\n",
       "    <tr>\n",
       "      <td>max</td>\n",
       "      <td>5.025600e+08</td>\n",
       "      <td>4.420428e+08</td>\n",
       "      <td>2018.000000</td>\n",
       "      <td>1.365000e+06</td>\n",
       "    </tr>\n",
       "  </tbody>\n",
       "</table>\n",
       "</div>"
      ],
      "text/plain": [
       "                PID         Value    Year Built          Size\n",
       "count  1.765200e+04  1.765200e+04  16966.000000  1.697300e+04\n",
       "mean   1.790584e+08  1.254958e+06   1922.984970  4.938993e+03\n",
       "std    7.717305e+07  1.186407e+07     45.635413  2.991578e+04\n",
       "min    1.000010e+08  0.000000e+00   1752.000000  0.000000e+00\n",
       "25%    1.041408e+08  3.772270e+05   1899.000000  8.020000e+02\n",
       "50%    2.005365e+08  5.456560e+05   1905.000000  1.596000e+03\n",
       "75%    2.035161e+08  7.629378e+05   1964.000000  3.564000e+03\n",
       "max    5.025600e+08  4.420428e+08   2018.000000  1.365000e+06"
      ]
     },
     "execution_count": 88,
     "metadata": {},
     "output_type": "execute_result"
    }
   ],
   "source": [
    "df.describe()"
   ]
  },
  {
   "cell_type": "markdown",
   "metadata": {},
   "source": [
    "## 9. Exploratory Data Analysis: Histogram\n",
    "It can often be useful to visualize data by plotting it. Histograms are super useful because they give us a quick glance at the shape/concentration of the distribution.\n",
    "We will use the IRIS data set here."
   ]
  },
  {
   "cell_type": "code",
   "execution_count": 89,
   "metadata": {},
   "outputs": [
    {
     "data": {
      "text/plain": [
       "array([[<matplotlib.axes._subplots.AxesSubplot object at 0x1a258d3c50>,\n",
       "        <matplotlib.axes._subplots.AxesSubplot object at 0x1a1c34cc50>],\n",
       "       [<matplotlib.axes._subplots.AxesSubplot object at 0x1a1caa8ed0>,\n",
       "        <matplotlib.axes._subplots.AxesSubplot object at 0x1a1c838b90>]],\n",
       "      dtype=object)"
      ]
     },
     "execution_count": 89,
     "metadata": {},
     "output_type": "execute_result"
    },
    {
     "data": {
      "image/png": "[encoded data removed]",
      "text/plain": [
       "<Figure size 432x288 with 4 Axes>"
      ]
     },
     "metadata": {
      "needs_background": "light"
     },
     "output_type": "display_data"
    }
   ],
   "source": [
    "# Let's plot a histogram of the Boston property\n",
    "# You can specify the number of bins in the histograms using one of the parameters\n",
    "# Let's also only consider property greater than 0 value and less than 2 million dollars\n",
    "\n",
    "df = df.loc[(df['Value'] > 0) & (df['Value'] < 2000000)]\n",
    "\n",
    "# Play around with the number of bins to see how the data is separated\n",
    "%matplotlib inline\n",
    "df.hist(bins = 10)"
   ]
  },
  {
   "cell_type": "code",
   "execution_count": 70,
   "metadata": {},
   "outputs": [
    {
     "data": {
      "text/html": [
       "<div>\n",
       "<style scoped>\n",
       "    .dataframe tbody tr th:only-of-type {\n",
       "        vertical-align: middle;\n",
       "    }\n",
       "\n",
       "    .dataframe tbody tr th {\n",
       "        vertical-align: top;\n",
       "    }\n",
       "\n",
       "    .dataframe thead th {\n",
       "        text-align: right;\n",
       "    }\n",
       "</style>\n",
       "<table border=\"1\" class=\"dataframe\">\n",
       "  <thead>\n",
       "    <tr style=\"text-align: right;\">\n",
       "      <th></th>\n",
       "      <th>sepal_length</th>\n",
       "      <th>sepal_width</th>\n",
       "      <th>petal_length</th>\n",
       "      <th>petal_width</th>\n",
       "      <th>species</th>\n",
       "    </tr>\n",
       "  </thead>\n",
       "  <tbody>\n",
       "    <tr>\n",
       "      <td>0</td>\n",
       "      <td>5.1</td>\n",
       "      <td>3.5</td>\n",
       "      <td>1.4</td>\n",
       "      <td>0.2</td>\n",
       "      <td>setosa</td>\n",
       "    </tr>\n",
       "    <tr>\n",
       "      <td>1</td>\n",
       "      <td>4.9</td>\n",
       "      <td>3.0</td>\n",
       "      <td>1.4</td>\n",
       "      <td>0.2</td>\n",
       "      <td>setosa</td>\n",
       "    </tr>\n",
       "    <tr>\n",
       "      <td>2</td>\n",
       "      <td>4.7</td>\n",
       "      <td>3.2</td>\n",
       "      <td>1.3</td>\n",
       "      <td>0.2</td>\n",
       "      <td>setosa</td>\n",
       "    </tr>\n",
       "    <tr>\n",
       "      <td>3</td>\n",
       "      <td>4.6</td>\n",
       "      <td>3.1</td>\n",
       "      <td>1.5</td>\n",
       "      <td>0.2</td>\n",
       "      <td>setosa</td>\n",
       "    </tr>\n",
       "    <tr>\n",
       "      <td>4</td>\n",
       "      <td>5.0</td>\n",
       "      <td>3.6</td>\n",
       "      <td>1.4</td>\n",
       "      <td>0.2</td>\n",
       "      <td>setosa</td>\n",
       "    </tr>\n",
       "    <tr>\n",
       "      <td>...</td>\n",
       "      <td>...</td>\n",
       "      <td>...</td>\n",
       "      <td>...</td>\n",
       "      <td>...</td>\n",
       "      <td>...</td>\n",
       "    </tr>\n",
       "    <tr>\n",
       "      <td>145</td>\n",
       "      <td>6.7</td>\n",
       "      <td>3.0</td>\n",
       "      <td>5.2</td>\n",
       "      <td>2.3</td>\n",
       "      <td>virginica</td>\n",
       "    </tr>\n",
       "    <tr>\n",
       "      <td>146</td>\n",
       "      <td>6.3</td>\n",
       "      <td>2.5</td>\n",
       "      <td>5.0</td>\n",
       "      <td>1.9</td>\n",
       "      <td>virginica</td>\n",
       "    </tr>\n",
       "    <tr>\n",
       "      <td>147</td>\n",
       "      <td>6.5</td>\n",
       "      <td>3.0</td>\n",
       "      <td>5.2</td>\n",
       "      <td>2.0</td>\n",
       "      <td>virginica</td>\n",
       "    </tr>\n",
       "    <tr>\n",
       "      <td>148</td>\n",
       "      <td>6.2</td>\n",
       "      <td>3.4</td>\n",
       "      <td>5.4</td>\n",
       "      <td>2.3</td>\n",
       "      <td>virginica</td>\n",
       "    </tr>\n",
       "    <tr>\n",
       "      <td>149</td>\n",
       "      <td>5.9</td>\n",
       "      <td>3.0</td>\n",
       "      <td>5.1</td>\n",
       "      <td>1.8</td>\n",
       "      <td>virginica</td>\n",
       "    </tr>\n",
       "  </tbody>\n",
       "</table>\n",
       "<p>150 rows × 5 columns</p>\n",
       "</div>"
      ],
      "text/plain": [
       "     sepal_length  sepal_width  petal_length  petal_width    species\n",
       "0             5.1          3.5           1.4          0.2     setosa\n",
       "1             4.9          3.0           1.4          0.2     setosa\n",
       "2             4.7          3.2           1.3          0.2     setosa\n",
       "3             4.6          3.1           1.5          0.2     setosa\n",
       "4             5.0          3.6           1.4          0.2     setosa\n",
       "..            ...          ...           ...          ...        ...\n",
       "145           6.7          3.0           5.2          2.3  virginica\n",
       "146           6.3          2.5           5.0          1.9  virginica\n",
       "147           6.5          3.0           5.2          2.0  virginica\n",
       "148           6.2          3.4           5.4          2.3  virginica\n",
       "149           5.9          3.0           5.1          1.8  virginica\n",
       "\n",
       "[150 rows x 5 columns]"
      ]
     },
     "execution_count": 70,
     "metadata": {},
     "output_type": "execute_result"
    }
   ],
   "source": [
    "import seaborn as sns\n",
    "df = sns.load_dataset('iris')\n",
    "df"
   ]
  },
  {
   "cell_type": "code",
   "execution_count": 71,
   "metadata": {},
   "outputs": [
    {
     "data": {
      "text/html": [
       "<div>\n",
       "<style scoped>\n",
       "    .dataframe tbody tr th:only-of-type {\n",
       "        vertical-align: middle;\n",
       "    }\n",
       "\n",
       "    .dataframe tbody tr th {\n",
       "        vertical-align: top;\n",
       "    }\n",
       "\n",
       "    .dataframe thead th {\n",
       "        text-align: right;\n",
       "    }\n",
       "</style>\n",
       "<table border=\"1\" class=\"dataframe\">\n",
       "  <thead>\n",
       "    <tr style=\"text-align: right;\">\n",
       "      <th></th>\n",
       "      <th>sepal_length</th>\n",
       "      <th>sepal_width</th>\n",
       "      <th>petal_length</th>\n",
       "      <th>petal_width</th>\n",
       "    </tr>\n",
       "  </thead>\n",
       "  <tbody>\n",
       "    <tr>\n",
       "      <td>count</td>\n",
       "      <td>150.000000</td>\n",
       "      <td>150.000000</td>\n",
       "      <td>150.000000</td>\n",
       "      <td>150.000000</td>\n",
       "    </tr>\n",
       "    <tr>\n",
       "      <td>mean</td>\n",
       "      <td>5.843333</td>\n",
       "      <td>3.057333</td>\n",
       "      <td>3.758000</td>\n",
       "      <td>1.199333</td>\n",
       "    </tr>\n",
       "    <tr>\n",
       "      <td>std</td>\n",
       "      <td>0.828066</td>\n",
       "      <td>0.435866</td>\n",
       "      <td>1.765298</td>\n",
       "      <td>0.762238</td>\n",
       "    </tr>\n",
       "    <tr>\n",
       "      <td>min</td>\n",
       "      <td>4.300000</td>\n",
       "      <td>2.000000</td>\n",
       "      <td>1.000000</td>\n",
       "      <td>0.100000</td>\n",
       "    </tr>\n",
       "    <tr>\n",
       "      <td>25%</td>\n",
       "      <td>5.100000</td>\n",
       "      <td>2.800000</td>\n",
       "      <td>1.600000</td>\n",
       "      <td>0.300000</td>\n",
       "    </tr>\n",
       "    <tr>\n",
       "      <td>50%</td>\n",
       "      <td>5.800000</td>\n",
       "      <td>3.000000</td>\n",
       "      <td>4.350000</td>\n",
       "      <td>1.300000</td>\n",
       "    </tr>\n",
       "    <tr>\n",
       "      <td>75%</td>\n",
       "      <td>6.400000</td>\n",
       "      <td>3.300000</td>\n",
       "      <td>5.100000</td>\n",
       "      <td>1.800000</td>\n",
       "    </tr>\n",
       "    <tr>\n",
       "      <td>max</td>\n",
       "      <td>7.900000</td>\n",
       "      <td>4.400000</td>\n",
       "      <td>6.900000</td>\n",
       "      <td>2.500000</td>\n",
       "    </tr>\n",
       "  </tbody>\n",
       "</table>\n",
       "</div>"
      ],
      "text/plain": [
       "       sepal_length  sepal_width  petal_length  petal_width\n",
       "count    150.000000   150.000000    150.000000   150.000000\n",
       "mean       5.843333     3.057333      3.758000     1.199333\n",
       "std        0.828066     0.435866      1.765298     0.762238\n",
       "min        4.300000     2.000000      1.000000     0.100000\n",
       "25%        5.100000     2.800000      1.600000     0.300000\n",
       "50%        5.800000     3.000000      4.350000     1.300000\n",
       "75%        6.400000     3.300000      5.100000     1.800000\n",
       "max        7.900000     4.400000      6.900000     2.500000"
      ]
     },
     "execution_count": 71,
     "metadata": {},
     "output_type": "execute_result"
    }
   ],
   "source": [
    "import matplotlib.pyplot as plt\n",
    "%matplotlib inline\n",
    "plt.rcParams.update({'figure.figsize':(7,5), 'figure.dpi':100})\n",
    "\n",
    "iris = df\n",
    "df.describe()\n"
   ]
  },
  {
   "cell_type": "code",
   "execution_count": 75,
   "metadata": {},
   "outputs": [
    {
     "data": {
      "image/png": "[encoded data removed]",
      "text/plain": [
       "<Figure size 700x600 with 1 Axes>"
      ]
     },
     "metadata": {
      "needs_background": "light"
     },
     "output_type": "display_data"
    }
   ],
   "source": [
    "plt.subplots(figsize=(7,6), dpi=100)\n",
    "sns.distplot( df.loc[df.species=='setosa', \"petal_length\"] , color=\"dodgerblue\", label=\"Setosa\")\n",
    "sns.distplot( df.loc[df.species=='virginica', \"petal_length\"] , color=\"orange\", label=\"virginica\")\n",
    "sns.distplot( df.loc[df.species=='versicolor', \"petal_length\"] , color=\"deeppink\", label=\"versicolor\")\n",
    "\n",
    "plt.title('Iris Histogram')\n",
    "plt.legend();"
   ]
  },
  {
   "cell_type": "code",
   "execution_count": 74,
   "metadata": {},
   "outputs": [
    {
     "data": {
      "text/plain": [
       "array([[<matplotlib.axes._subplots.AxesSubplot object at 0x1a2624c410>,\n",
       "        <matplotlib.axes._subplots.AxesSubplot object at 0x1a26226090>],\n",
       "       [<matplotlib.axes._subplots.AxesSubplot object at 0x1a26534950>,\n",
       "        <matplotlib.axes._subplots.AxesSubplot object at 0x1a26567f90>]],\n",
       "      dtype=object)"
      ]
     },
     "execution_count": 74,
     "metadata": {},
     "output_type": "execute_result"
    },
    {
     "data": {
      "image/png": "[encoded data removed]",
      "text/plain": [
       "<Figure size 1000x1000 with 4 Axes>"
      ]
     },
     "metadata": {
      "needs_background": "light"
     },
     "output_type": "display_data"
    }
   ],
   "source": [
    "df.plot.hist(subplots=True, layout=(2,2), figsize=(10, 10), bins=50)"
   ]
  },
  {
   "cell_type": "code",
   "execution_count": 65,
   "metadata": {},
   "outputs": [
    {
     "data": {
      "text/plain": [
       "<seaborn.axisgrid.FacetGrid at 0x1a197bac90>"
      ]
     },
     "execution_count": 65,
     "metadata": {},
     "output_type": "execute_result"
    },
    {
     "data": {
      "image/png": "[encoded data removed]",
      "text/plain": [
       "<Figure size 600x600 with 4 Axes>"
      ]
     },
     "metadata": {
      "needs_background": "light"
     },
     "output_type": "display_data"
    }
   ],
   "source": [
    "import pandas as pd\n",
    "iris_long = pd.melt(iris, \"species\", var_name=\"measurement\")\n",
    "g = sns.FacetGrid(iris_long, hue=\"species\", col=\"measurement\", col_wrap=2, sharex=False)\n",
    "g.map(plt.hist, \"value\", alpha=.4)\n",
    "g"
   ]
  },
  {
   "cell_type": "markdown",
   "metadata": {},
   "source": [
    "Activity: \n",
    "\n",
    "use the code above\n",
    "\n",
    "plt.subplots(figsize=(7,6), dpi=100)\n",
    "sns.distplot( df.loc[df.species=='setosa', \"petal_length\"] , color=\"dodgerblue\", label=\"Setosa\")\n",
    "sns.distplot( df.loc[df.species=='virginica', \"petal_length\"] , color=\"orange\", label=\"virginica\")\n",
    "sns.distplot( df.loc[df.species=='versicolor', \"petal_length\"] , color=\"deeppink\", label=\"versicolor\")\n",
    "\n",
    "plt.title('Iris Histogram')\n",
    "plt.legend();\n",
    "\n",
    "to plot the histograms of petal width"
   ]
  },
  {
   "cell_type": "markdown",
   "metadata": {},
   "source": [
    "## 10. Plotting a Scatterplot\n",
    "Scatterplots are very useful for quickly visualizing the relationship between two factors."
   ]
  },
  {
   "cell_type": "code",
   "execution_count": 66,
   "metadata": {},
   "outputs": [
    {
     "data": {
      "text/plain": [
       "<matplotlib.axes._subplots.AxesSubplot at 0x1a19343690>"
      ]
     },
     "execution_count": 66,
     "metadata": {},
     "output_type": "execute_result"
    },
    {
     "data": {
      "image/png": "[encoded data removed]",
      "text/plain": [
       "<Figure size 432x288 with 1 Axes>"
      ]
     },
     "metadata": {
      "needs_background": "light"
     },
     "output_type": "display_data"
    }
   ],
   "source": [
    "# Let's plot a scatterplot of sepal width vs sepal length\n",
    "%matplotlib inline\n",
    "df.plot.scatter(x = 'sepal_width', y = 'sepal_length')"
   ]
  },
  {
   "cell_type": "code",
   "execution_count": 67,
   "metadata": {},
   "outputs": [
    {
     "data": {
      "image/png": "[encoded data removed]",
      "text/plain": [
       "<Figure size 943.125x864 with 20 Axes>"
      ]
     },
     "metadata": {},
     "output_type": "display_data"
    }
   ],
   "source": [
    "# Let's plot a scatterplot for all pairs\n",
    "sns.set_style(\"whitegrid\");\n",
    "sns.pairplot(iris, hue=\"species\", height=3);\n",
    "plt.show()"
   ]
  },
  {
   "cell_type": "code",
   "execution_count": 80,
   "metadata": {},
   "outputs": [
    {
     "data": {
      "image/png": "[encoded data removed]",
      "text/plain": [
       "<Figure size 700x500 with 2 Axes>"
      ]
     },
     "metadata": {
      "needs_background": "light"
     },
     "output_type": "display_data"
    }
   ],
   "source": [
    "# 2D scatter plot conveys 4D info\n",
    "import seaborn as sns\n",
    "import matplotlib.pyplot as plt\n",
    "iris = sns.load_dataset(\"iris\")\n",
    "plt.scatter(iris.petal_width, iris.petal_length, \n",
    "            c = iris.sepal_length, s=(iris.sepal_width**2)*10, cmap=\"viridis\")\n",
    "ax = plt.gca()\n",
    "\n",
    "plt.colorbar(label=\"sepal_length\")\n",
    "plt.xlabel(\"petal_width\")\n",
    "plt.ylabel(\"petal_length\")\n",
    "\n",
    "#make a legend:\n",
    "pws = [0.5, 1, 1.5, 2., 2.5]\n",
    "for pw in pws:\n",
    "    plt.scatter([], [], s=(pw**2)*10, c=\"k\",label=str(pw))\n",
    "\n",
    "h, l = plt.gca().get_legend_handles_labels()\n",
    "plt.legend(h[1:], l[1:], labelspacing=1.2, title=\"sepal_width\", borderpad=1, \n",
    "            frameon=True, framealpha=0.6, edgecolor=\"k\", facecolor=\"w\")\n",
    "\n",
    "plt.show()"
   ]
  },
  {
   "cell_type": "markdown",
   "metadata": {},
   "source": [
    "Activity: \n",
    "\n",
    "use the code above\n",
    "\n",
    "%matplotlib inline\n",
    "df.plot.scatter(x = 'sepal_width', y = 'sepal_length')\n",
    "\n",
    "to generate a scatter of petal width vs petal length"
   ]
  },
  {
   "cell_type": "markdown",
   "metadata": {},
   "source": [
    "CONGRATS!\n",
    "\n",
    "You have finished Python basics! Remember that you don't have to memorize syntax, if you are not sure how to do something in code use trusty Google + Stack Overflow."
   ]
  },
  {
   "cell_type": "code",
   "execution_count": null,
   "metadata": {},
   "outputs": [],
   "source": []
  }
 ],
 "metadata": {
  "file_extension": ".py",
  "kernelspec": {
   "display_name": "Python 3",
   "language": "python",
   "name": "python3"
  },
  "language_info": {
   "codemirror_mode": {
    "name": "ipython",
    "version": 3
   },
   "file_extension": ".py",
   "mimetype": "text/x-python",
   "name": "python",
   "nbconvert_exporter": "python",
   "pygments_lexer": "ipython3",
   "version": "3.7.4"
  },
  "mimetype": "text/x-python",
  "name": "python",
  "npconvert_exporter": "python",
  "pygments_lexer": "ipython3",
  "version": 3
 },
 "nbformat": 4,
 "nbformat_minor": 2
}
